{
 "cells": [
  {
   "attachments": {},
   "cell_type": "markdown",
   "metadata": {},
   "source": [
    "### 1. Configuraçoes Iniciais"
   ]
  },
  {
   "attachments": {},
   "cell_type": "markdown",
   "metadata": {},
   "source": [
    "#### Imports"
   ]
  },
  {
   "cell_type": "code",
   "execution_count": 103,
   "metadata": {},
   "outputs": [],
   "source": [
    "import requests\n",
    "import pandas as pd\n",
    "import numpy as np\n",
    "import os"
   ]
  },
  {
   "attachments": {},
   "cell_type": "markdown",
   "metadata": {},
   "source": [
    "#### Importando dados do funds explorer"
   ]
  },
  {
   "cell_type": "code",
   "execution_count": 104,
   "metadata": {},
   "outputs": [],
   "source": [
    "url = 'https://www.fundsexplorer.com.br/ranking'\n",
    "\n",
    "headers = {'User-Agent': 'Mozilla/5.0 (Macintosh; Intel Mac OS X 10_11_4) AppleWebKit/537.36'' (KHTML, like Gecko) Chrome/51.0.2704.103 Safari/537.36'}\n",
    "\n",
    "response = requests.get(url, headers=headers)\n",
    "\n",
    "if response.status_code == 200:\n",
    "    df = pd.read_html(response.content, encoding='utf-8')[0]"
   ]
  },
  {
   "attachments": {},
   "cell_type": "markdown",
   "metadata": {},
   "source": [
    "#### Exibindo os dados"
   ]
  },
  {
   "cell_type": "code",
   "execution_count": 105,
   "metadata": {},
   "outputs": [],
   "source": [
    "# df.sort_values('Código do fundo', inplace=True) #classifica os dados utilizando o código do fundo\n",
    "\n",
    "# display(df) #imprime o DF\n",
    "# df.info() # exibe o tipo de dados de cada coluna\n",
    "# df.describe(include='all')\n",
    "# df['Setor'].unique() #dados univos da coluna de setor\n",
    "# df.columns\n"
   ]
  },
  {
   "attachments": {},
   "cell_type": "markdown",
   "metadata": {},
   "source": [
    "### 2. Limpeza e Formatação de Dados"
   ]
  },
  {
   "cell_type": "code",
   "execution_count": 106,
   "metadata": {},
   "outputs": [],
   "source": [
    "#df.isna().sum() #mostra os dados NA"
   ]
  },
  {
   "attachments": {},
   "cell_type": "markdown",
   "metadata": {},
   "source": [
    "#### Dados categóricos"
   ]
  },
  {
   "cell_type": "code",
   "execution_count": 107,
   "metadata": {},
   "outputs": [],
   "source": [
    "categorical_columns = ['Código do fundo','Setor'] #cria uma variavel para as colunas categoricas\n",
    "idx = df[df['Setor'].isna()].index #mostra quais linhas possuem dados NA\n",
    "#print(df[categorical_columns].isna().sum()) #mostra a soma de todas as linhas com NA\n",
    "df.drop(idx, inplace=True) #apaga estas linhas\n",
    "#df[categorical_columns].isna().sum() #mostra a soma de todas as linhas com NA\n",
    "df[categorical_columns] = df[categorical_columns].astype('category') # define as colunas ocmo categoricas\n",
    "#df.info()"
   ]
  },
  {
   "attachments": {},
   "cell_type": "markdown",
   "metadata": {},
   "source": [
    "#### Dados Numéricos"
   ]
  },
  {
   "cell_type": "code",
   "execution_count": 108,
   "metadata": {},
   "outputs": [],
   "source": [
    "col_floats = list(df.iloc[:,2:-1].columns) #Seleciona da terceira até a penultima linha \n",
    "#print(col_floats)\n",
    "df[col_floats] = df[col_floats].fillna(value=0) #substitui os dados NA por zero\n",
    "df[col_floats] #valida se existe ainda dados nulos\n",
    "df[col_floats] = df[col_floats].applymap(lambda x: str(x).replace('R$', '').replace('.0','').replace('.','').replace('%','').replace(',','.')) #limpa os dados removendo caracteres inuteis\n",
    "df[col_floats] = df[col_floats].astype('float') #define as colunas como float\n",
    "#df.info()\n",
    "#df.describe()"
   ]
  },
  {
   "attachments": {},
   "cell_type": "markdown",
   "metadata": {},
   "source": [
    "##### Dados de P/VPA tem atributos infinitos e está em uma escala diferente"
   ]
  },
  {
   "cell_type": "code",
   "execution_count": 109,
   "metadata": {},
   "outputs": [],
   "source": [
    "df = df.replace([np.inf, -np.inf], np.nan)  # Converter infinitos para NaN\n",
    "df = df.dropna() #apaga os dados NA\n",
    "df['P/VPA'] = df['P/VPA']/100 #convertendo P/VPA para\n",
    "#df.describe()\n",
    "#df"
   ]
  },
  {
   "attachments": {},
   "cell_type": "markdown",
   "metadata": {},
   "source": [
    "### 3. Analises (DF)"
   ]
  },
  {
   "cell_type": "code",
   "execution_count": 176,
   "metadata": {},
   "outputs": [],
   "source": [
    "indicadores = ['Código do fundo','Setor', 'Preço Atual','DY (12M) Acumulado', 'Vacância Física', 'Vacância Financeira', 'P/VPA', 'Quantidade Ativos', 'Liquidez Diária']\n",
    "indicadoresf = ['DY (12M) Acumulado', 'Vacância Física', 'Vacância Financeira', 'P/VPA', 'Quantidade Ativos', 'Liquidez Diária']"
   ]
  },
  {
   "attachments": {},
   "cell_type": "markdown",
   "metadata": {},
   "source": [
    "#### Média por Setor"
   ]
  },
  {
   "cell_type": "code",
   "execution_count": 111,
   "metadata": {},
   "outputs": [],
   "source": [
    "#df.columns #exibe o nome de cabeçalho de todas as colunas do data set DF\n",
    "df_aux = df[indicadores] #filtra o df pelos  cabeçalhos\n",
    "media_setor = df_aux.groupby('Setor')[indicadoresf].agg(['mean']) #calcula a media dos indicadores agrupado por setor\n",
    "media_setoru = media_setor.loc['Hotel', ('P/VPA', 'mean')]"
   ]
  },
  {
   "attachments": {},
   "cell_type": "markdown",
   "metadata": {},
   "source": [
    "#### Criando uma função com uma estratégia para oportunidades do mercado"
   ]
  },
  {
   "cell_type": "code",
   "execution_count": 124,
   "metadata": {},
   "outputs": [],
   "source": [
    "def oportunidade_media_setor(df, setor, label_setor='Setor'):\n",
    "    \n",
    "    media_setor = df.groupby('Setor')[indicadoresf].agg(['mean']) #calcula a média dos indicadores do setor escolhido\n",
    "    \n",
    "    df_setor = df[df[label_setor].isin([setor])]\n",
    "    \n",
    "    filter_ = \\\n",
    "            (df_setor['Quantidade Ativos'] > 1) &\\\n",
    "            (df_setor['Liquidez Diária'] > 1) &\\\n",
    "            (df_setor['P/VPA'] < 2.0) &\\\n",
    "            (df_setor['DY (12M) Acumulado'] > media_setor.loc[setor, ('DY (12M) Acumulado','mean')]) \n",
    "            \n",
    "    print('média do setor Yield: {}'.format(media_setor.loc[setor, ('DY (12M) Acumulado','mean')]))\n",
    "    print('média do setor p/VPA: {}'.format(media_setor.loc[setor, ('P/VPA','mean')]))\n",
    "    print('média do setor Ativos: {}'.format(media_setor.loc[setor, ('Quantidade Ativos','mean')]))\n",
    "    \n",
    "    return df_setor[filter_]"
   ]
  },
  {
   "cell_type": "code",
   "execution_count": 119,
   "metadata": {
    "scrolled": true
   },
   "outputs": [],
   "source": [
    "#list(df['Setor'].unique()) #mostra os setores do filtro selecionado"
   ]
  },
  {
   "cell_type": "code",
   "execution_count": null,
   "metadata": {},
   "outputs": [],
   "source": [
    "dataframe = df_aux\n",
    "setorF = 'Híbrido'\n",
    "oportunidade = oportunidade_media_setor(dataframe, setorF)\n",
    "oportunidade.sort_values('DY (12M) Acumulado', ascending=False, inplace=True)\n",
    "oportunidade"
   ]
  },
  {
   "attachments": {},
   "cell_type": "markdown",
   "metadata": {},
   "source": [
    "### 4. Analises (FIIs Pessoais)"
   ]
  },
  {
   "attachments": {},
   "cell_type": "markdown",
   "metadata": {},
   "source": [
    "#### 4.1 Importacao de Tickets via CSV"
   ]
  },
  {
   "cell_type": "code",
   "execution_count": null,
   "metadata": {},
   "outputs": [],
   "source": [
    "os.chdir(\"C:/Users/luis-/projetos/Python/analise-acoes/\") #selecionando o diretorio do arquivo CSV a ser lido\n",
    "tickets = pd.read_csv(\"./tickets.csv\", sep = ',') #importando dados de um csv utilizando o pandas\n",
    "tickets = tickets['Ativo'].tolist() #convertendo o data frame para lista\n",
    "filtro = df.iloc[:, 0].isin(tickets) #filtando os dados utilizando as acoes do arquivo csv\n",
    "df_filtro = df.loc[filtro]\n",
    "display(df_filtro)"
   ]
  },
  {
   "cell_type": "code",
   "execution_count": 179,
   "metadata": {},
   "outputs": [
    {
     "name": "stderr",
     "output_type": "stream",
     "text": [
      "C:\\Users\\luis-\\AppData\\Local\\Temp\\ipykernel_18588\\391286116.py:3: UserWarning: Boolean Series key will be reindexed to match DataFrame index.\n",
      "  df_auxp = df_auxp[(filter_)].sort_values(['P/VPA'])\n"
     ]
    },
    {
     "data": {
      "text/html": [
       "<div>\n",
       "<style scoped>\n",
       "    .dataframe tbody tr th:only-of-type {\n",
       "        vertical-align: middle;\n",
       "    }\n",
       "\n",
       "    .dataframe tbody tr th {\n",
       "        vertical-align: top;\n",
       "    }\n",
       "\n",
       "    .dataframe thead th {\n",
       "        text-align: right;\n",
       "    }\n",
       "</style>\n",
       "<table border=\"1\" class=\"dataframe\">\n",
       "  <thead>\n",
       "    <tr style=\"text-align: right;\">\n",
       "      <th></th>\n",
       "      <th>Código do fundo</th>\n",
       "      <th>Setor</th>\n",
       "      <th>Preço Atual</th>\n",
       "      <th>DY (12M) Acumulado</th>\n",
       "      <th>Vacância Física</th>\n",
       "      <th>Vacância Financeira</th>\n",
       "      <th>P/VPA</th>\n",
       "      <th>Quantidade Ativos</th>\n",
       "      <th>Liquidez Diária</th>\n",
       "    </tr>\n",
       "  </thead>\n",
       "  <tbody>\n",
       "    <tr>\n",
       "      <th>308</th>\n",
       "      <td>BRCO11</td>\n",
       "      <td>Logística</td>\n",
       "      <td>108.50</td>\n",
       "      <td>7.85</td>\n",
       "      <td>0.0</td>\n",
       "      <td>0.00</td>\n",
       "      <td>0.89</td>\n",
       "      <td>10</td>\n",
       "      <td>29879.0</td>\n",
       "    </tr>\n",
       "    <tr>\n",
       "      <th>165</th>\n",
       "      <td>XPLG11</td>\n",
       "      <td>Logística</td>\n",
       "      <td>105.19</td>\n",
       "      <td>8.86</td>\n",
       "      <td>8.8</td>\n",
       "      <td>1.20</td>\n",
       "      <td>0.92</td>\n",
       "      <td>13</td>\n",
       "      <td>25809.0</td>\n",
       "    </tr>\n",
       "    <tr>\n",
       "      <th>86</th>\n",
       "      <td>PVBI11</td>\n",
       "      <td>Lajes Corporativas</td>\n",
       "      <td>96.21</td>\n",
       "      <td>7.55</td>\n",
       "      <td>0.1</td>\n",
       "      <td>0.00</td>\n",
       "      <td>0.94</td>\n",
       "      <td>4</td>\n",
       "      <td>25668.0</td>\n",
       "    </tr>\n",
       "    <tr>\n",
       "      <th>70</th>\n",
       "      <td>KNRI11</td>\n",
       "      <td>Híbrido</td>\n",
       "      <td>153.49</td>\n",
       "      <td>7.80</td>\n",
       "      <td>2.0</td>\n",
       "      <td>6.72</td>\n",
       "      <td>0.96</td>\n",
       "      <td>20</td>\n",
       "      <td>23916.0</td>\n",
       "    </tr>\n",
       "    <tr>\n",
       "      <th>323</th>\n",
       "      <td>BTLG11</td>\n",
       "      <td>Logística</td>\n",
       "      <td>97.99</td>\n",
       "      <td>9.10</td>\n",
       "      <td>0.0</td>\n",
       "      <td>2.00</td>\n",
       "      <td>0.99</td>\n",
       "      <td>16</td>\n",
       "      <td>37684.0</td>\n",
       "    </tr>\n",
       "    <tr>\n",
       "      <th>107</th>\n",
       "      <td>HGRU11</td>\n",
       "      <td>Híbrido</td>\n",
       "      <td>124.17</td>\n",
       "      <td>9.77</td>\n",
       "      <td>0.0</td>\n",
       "      <td>0.00</td>\n",
       "      <td>1.00</td>\n",
       "      <td>17</td>\n",
       "      <td>25568.0</td>\n",
       "    </tr>\n",
       "  </tbody>\n",
       "</table>\n",
       "</div>"
      ],
      "text/plain": [
       "    Código do fundo               Setor  Preço Atual  DY (12M) Acumulado   \n",
       "308          BRCO11           Logística       108.50                7.85  \\\n",
       "165          XPLG11           Logística       105.19                8.86   \n",
       "86           PVBI11  Lajes Corporativas        96.21                7.55   \n",
       "70           KNRI11             Híbrido       153.49                7.80   \n",
       "323          BTLG11           Logística        97.99                9.10   \n",
       "107          HGRU11             Híbrido       124.17                9.77   \n",
       "\n",
       "     Vacância Física  Vacância Financeira  P/VPA  Quantidade Ativos   \n",
       "308              0.0                 0.00   0.89                 10  \\\n",
       "165              8.8                 1.20   0.92                 13   \n",
       "86               0.1                 0.00   0.94                  4   \n",
       "70               2.0                 6.72   0.96                 20   \n",
       "323              0.0                 2.00   0.99                 16   \n",
       "107              0.0                 0.00   1.00                 17   \n",
       "\n",
       "     Liquidez Diária  \n",
       "308          29879.0  \n",
       "165          25809.0  \n",
       "86           25668.0  \n",
       "70           23916.0  \n",
       "323          37684.0  \n",
       "107          25568.0  "
      ]
     },
     "metadata": {},
     "output_type": "display_data"
    }
   ],
   "source": [
    "df_auxp = df_filtro[indicadores] #filtra o df pelos  cabeçalhos\n",
    "filter_ = (df_aux['P/VPA'] < 1.01) & (df_aux['P/VPA'] > 0.85)\n",
    "df_auxp = df_auxp[(filter_)].sort_values(['P/VPA'])\n",
    "display(df_auxp)"
   ]
  },
  {
   "cell_type": "code",
   "execution_count": 161,
   "metadata": {},
   "outputs": [
    {
     "data": {
      "text/plain": [
       "['Logística', 'Híbrido', 'Lajes Corporativas', 'Títulos e Val. Mob.', 'Outros']"
      ]
     },
     "execution_count": 161,
     "metadata": {},
     "output_type": "execute_result"
    }
   ],
   "source": [
    "list(df_auxp['Setor'].unique()) #mostra os setores do filtro selecionado"
   ]
  },
  {
   "cell_type": "code",
   "execution_count": null,
   "metadata": {},
   "outputs": [],
   "source": [
    "oportunidade = oportunidade_media_setor(df_auxp, setor='Lajes Corporativas')\n",
    "oportunidade.sort_values('DY (12M) Acumulado', ascending=False, inplace=True)\n",
    "oportunidade"
   ]
  },
  {
   "cell_type": "code",
   "execution_count": null,
   "metadata": {},
   "outputs": [],
   "source": []
  }
 ],
 "metadata": {
  "kernelspec": {
   "display_name": "Python 3",
   "language": "python",
   "name": "python3"
  },
  "language_info": {
   "codemirror_mode": {
    "name": "ipython",
    "version": 3
   },
   "file_extension": ".py",
   "mimetype": "text/x-python",
   "name": "python",
   "nbconvert_exporter": "python",
   "pygments_lexer": "ipython3",
   "version": "3.11.3"
  }
 },
 "nbformat": 4,
 "nbformat_minor": 4
}
