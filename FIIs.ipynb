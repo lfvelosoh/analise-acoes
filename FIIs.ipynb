{
 "cells": [
  {
   "attachments": {},
   "cell_type": "markdown",
   "metadata": {},
   "source": [
    "### 1. Configuraçoes Iniciais"
   ]
  },
  {
   "attachments": {},
   "cell_type": "markdown",
   "metadata": {},
   "source": [
    "#### Imports"
   ]
  },
  {
   "cell_type": "code",
   "execution_count": 2,
   "metadata": {},
   "outputs": [],
   "source": [
    "import requests\n",
    "import pandas as pd\n",
    "import numpy as np\n",
    "import os"
   ]
  },
  {
   "attachments": {},
   "cell_type": "markdown",
   "metadata": {},
   "source": [
    "#### Importando dados do funds explorer"
   ]
  },
  {
   "cell_type": "code",
   "execution_count": 3,
   "metadata": {},
   "outputs": [],
   "source": [
    "url = 'https://www.fundsexplorer.com.br/ranking'\n",
    "\n",
    "headers = {'User-Agent': 'Mozilla/5.0 (Macintosh; Intel Mac OS X 10_11_4) AppleWebKit/537.36'' (KHTML, like Gecko) Chrome/51.0.2704.103 Safari/537.36'}\n",
    "\n",
    "response = requests.get(url, headers=headers)\n",
    "\n",
    "if response.status_code == 200:\n",
    "    df = pd.read_html(response.content, encoding='utf-8')[0]"
   ]
  },
  {
   "attachments": {},
   "cell_type": "markdown",
   "metadata": {},
   "source": [
    "#### Exibindo os dados"
   ]
  },
  {
   "cell_type": "code",
   "execution_count": 4,
   "metadata": {},
   "outputs": [],
   "source": [
    "# df.sort_values('Código do fundo', inplace=True) #classifica os dados utilizando o código do fundo\n",
    "\n",
    "# display(df) #imprime o DF\n",
    "# df.info() # exibe o tipo de dados de cada coluna\n",
    "# df.describe(include='all')\n",
    "# df['Setor'].unique() #dados univos da coluna de setor\n",
    "# df.columns\n"
   ]
  },
  {
   "attachments": {},
   "cell_type": "markdown",
   "metadata": {},
   "source": [
    "#### Importando dados dos fundos a serem lidos"
   ]
  },
  {
   "attachments": {},
   "cell_type": "markdown",
   "metadata": {},
   "source": [
    "### 2. Limpeza e Formatação de Dados"
   ]
  },
  {
   "cell_type": "code",
   "execution_count": 5,
   "metadata": {},
   "outputs": [],
   "source": [
    "#df.isna().sum() #mostra os dados NA"
   ]
  },
  {
   "attachments": {},
   "cell_type": "markdown",
   "metadata": {},
   "source": [
    "#### Dados categóricos"
   ]
  },
  {
   "cell_type": "code",
   "execution_count": 6,
   "metadata": {},
   "outputs": [],
   "source": [
    "categorical_columns = ['Código do fundo','Setor'] #cria uma variavel para as colunas categoricas\n",
    "idx = df[df['Setor'].isna()].index #mostra quais linhas possuem dados NA\n",
    "#print(df[categorical_columns].isna().sum()) #mostra a soma de todas as linhas com NA\n",
    "df.drop(idx, inplace=True) #apaga estas linhas\n",
    "#df[categorical_columns].isna().sum() #mostra a soma de todas as linhas com NA\n",
    "df[categorical_columns] = df[categorical_columns].astype('category') # define as colunas ocmo categoricas\n",
    "#df.info()"
   ]
  },
  {
   "attachments": {},
   "cell_type": "markdown",
   "metadata": {},
   "source": [
    "#### Dados Numéricos"
   ]
  },
  {
   "cell_type": "code",
   "execution_count": 7,
   "metadata": {},
   "outputs": [],
   "source": [
    "col_floats = list(df.iloc[:,2:-1].columns) #Seleciona da terceira até a penultima linha \n",
    "#print(col_floats)\n",
    "df[col_floats] = df[col_floats].fillna(value=0) #substitui os dados NA por zero\n",
    "df[col_floats] #valida se existe ainda dados nulos\n",
    "df[col_floats] = df[col_floats].applymap(lambda x: str(x).replace('R$', '').replace('.0','').replace('.','').replace('%','').replace(',','.')) #limpa os dados removendo caracteres inuteis\n",
    "df[col_floats] = df[col_floats].astype('float') #define as colunas como float\n",
    "#df.info()\n",
    "#df.describe()"
   ]
  },
  {
   "attachments": {},
   "cell_type": "markdown",
   "metadata": {},
   "source": [
    "##### Dados de P/VPA tem atributos infinitos e está em uma escala diferente"
   ]
  },
  {
   "cell_type": "code",
   "execution_count": 8,
   "metadata": {},
   "outputs": [],
   "source": [
    "df = df.replace([np.inf, -np.inf], np.nan)  # Converter infinitos para NaN\n",
    "df = df.dropna() #apaga os dados NA\n",
    "df['P/VPA'] = df['P/VPA']/100 #convertendo P/VPA para\n",
    "#df.describe()\n",
    "#df"
   ]
  },
  {
   "attachments": {},
   "cell_type": "markdown",
   "metadata": {},
   "source": [
    "### 3. Analises (DF)"
   ]
  },
  {
   "cell_type": "code",
   "execution_count": 9,
   "metadata": {},
   "outputs": [],
   "source": [
    "indicadores = ['Código do fundo','Setor', 'DY (12M) Acumulado', 'Vacância Física', 'Vacância Financeira', 'P/VPA', 'Quantidade Ativos', 'Liquidez Diária']\n",
    "indicadoresf = ['DY (12M) Acumulado', 'Vacância Física', 'Vacância Financeira', 'P/VPA', 'Quantidade Ativos', 'Liquidez Diária']"
   ]
  },
  {
   "attachments": {},
   "cell_type": "markdown",
   "metadata": {},
   "source": [
    "#### Média por Setor"
   ]
  },
  {
   "cell_type": "code",
   "execution_count": 33,
   "metadata": {},
   "outputs": [],
   "source": [
    "#df.columns #exibe o nome de cabeçalho de todas as colunas do data set DF"
   ]
  },
  {
   "cell_type": "code",
   "execution_count": 11,
   "metadata": {},
   "outputs": [],
   "source": [
    "df_aux = df[indicadores] #filtra o df pelos  cabeçalhos\n",
    "media_setor = df_aux.groupby('Setor')[indicadoresf].agg(['mean']) #calcula a media dos indicadores agrupado por setor\n",
    "media_setoru = media_setor.loc['Hotel', ('P/VPA', 'mean')]"
   ]
  },
  {
   "attachments": {},
   "cell_type": "markdown",
   "metadata": {},
   "source": [
    "#### Criando uma função com uma estratégia para oportunidades do mercado"
   ]
  },
  {
   "cell_type": "code",
   "execution_count": 17,
   "metadata": {},
   "outputs": [],
   "source": [
    "def oportunidade_media_setor(df, setor, label_setor='Setor'):\n",
    "    \n",
    "    media_setor = df.groupby('Setor')[indicadoresf].agg(['mean']) #calcula a média dos indicadores do setor escolhido\n",
    "    \n",
    "    df_setor = df[df[label_setor].isin([setor])]\n",
    "    \n",
    "    filter_ = \\\n",
    "            (df_setor['Quantidade Ativos'] > 5) &\\\n",
    "            (df_setor['Liquidez Diária'] > 5000) &\\\n",
    "            (df_setor['P/VPA'] < 1.0) &\\\n",
    "            (df_setor['DY (12M) Acumulado'] > media_setor.loc[setor, ('DY (12M) Acumulado','mean')]) \n",
    "            \n",
    "    print('média do setor Yield: {}'.format(media_setor.loc[setor, ('DY (12M) Acumulado','mean')]))\n",
    "    print('média do setor p/VPA: {}'.format(media_setor.loc[setor, ('P/VPA','mean')]))\n",
    "    print('média do setor Ativos: {}'.format(media_setor.loc[setor, ('Quantidade Ativos','mean')]))\n",
    "    \n",
    "    return df_setor[filter_]"
   ]
  },
  {
   "cell_type": "code",
   "execution_count": null,
   "metadata": {
    "scrolled": true
   },
   "outputs": [],
   "source": [
    "list(df['Setor'].unique()) #mostra os setores do filtro selecionado"
   ]
  },
  {
   "cell_type": "code",
   "execution_count": 37,
   "metadata": {},
   "outputs": [
    {
     "name": "stdout",
     "output_type": "stream",
     "text": [
      "média do setor Yield: 9.32433962264151\n",
      "média do setor p/VPA: 0.7426415094339622\n",
      "média do setor Ativos: 3.4150943396226414\n"
     ]
    },
    {
     "data": {
      "text/html": [
       "<div>\n",
       "<style scoped>\n",
       "    .dataframe tbody tr th:only-of-type {\n",
       "        vertical-align: middle;\n",
       "    }\n",
       "\n",
       "    .dataframe tbody tr th {\n",
       "        vertical-align: top;\n",
       "    }\n",
       "\n",
       "    .dataframe thead th {\n",
       "        text-align: right;\n",
       "    }\n",
       "</style>\n",
       "<table border=\"1\" class=\"dataframe\">\n",
       "  <thead>\n",
       "    <tr style=\"text-align: right;\">\n",
       "      <th></th>\n",
       "      <th>Código do fundo</th>\n",
       "      <th>Setor</th>\n",
       "      <th>DY (12M) Acumulado</th>\n",
       "      <th>Vacância Física</th>\n",
       "      <th>Vacância Financeira</th>\n",
       "      <th>P/VPA</th>\n",
       "      <th>Quantidade Ativos</th>\n",
       "      <th>Liquidez Diária</th>\n",
       "    </tr>\n",
       "  </thead>\n",
       "  <tbody>\n",
       "    <tr>\n",
       "      <th>174</th>\n",
       "      <td>RZTR11</td>\n",
       "      <td>Híbrido</td>\n",
       "      <td>13.39</td>\n",
       "      <td>0.0</td>\n",
       "      <td>0.0</td>\n",
       "      <td>0.91</td>\n",
       "      <td>10</td>\n",
       "      <td>25967.0</td>\n",
       "    </tr>\n",
       "    <tr>\n",
       "      <th>272</th>\n",
       "      <td>RECT11</td>\n",
       "      <td>Híbrido</td>\n",
       "      <td>11.11</td>\n",
       "      <td>15.1</td>\n",
       "      <td>0.0</td>\n",
       "      <td>0.60</td>\n",
       "      <td>8</td>\n",
       "      <td>13320.0</td>\n",
       "    </tr>\n",
       "    <tr>\n",
       "      <th>200</th>\n",
       "      <td>GALG11</td>\n",
       "      <td>Híbrido</td>\n",
       "      <td>10.69</td>\n",
       "      <td>0.0</td>\n",
       "      <td>0.0</td>\n",
       "      <td>0.96</td>\n",
       "      <td>6</td>\n",
       "      <td>65542.0</td>\n",
       "    </tr>\n",
       "    <tr>\n",
       "      <th>267</th>\n",
       "      <td>BRCR11</td>\n",
       "      <td>Híbrido</td>\n",
       "      <td>9.38</td>\n",
       "      <td>21.0</td>\n",
       "      <td>25.8</td>\n",
       "      <td>0.57</td>\n",
       "      <td>15</td>\n",
       "      <td>30190.0</td>\n",
       "    </tr>\n",
       "  </tbody>\n",
       "</table>\n",
       "</div>"
      ],
      "text/plain": [
       "    Código do fundo    Setor  DY (12M) Acumulado  Vacância Física   \n",
       "174          RZTR11  Híbrido               13.39              0.0  \\\n",
       "272          RECT11  Híbrido               11.11             15.1   \n",
       "200          GALG11  Híbrido               10.69              0.0   \n",
       "267          BRCR11  Híbrido                9.38             21.0   \n",
       "\n",
       "     Vacância Financeira  P/VPA  Quantidade Ativos  Liquidez Diária  \n",
       "174                  0.0   0.91                 10          25967.0  \n",
       "272                  0.0   0.60                  8          13320.0  \n",
       "200                  0.0   0.96                  6          65542.0  \n",
       "267                 25.8   0.57                 15          30190.0  "
      ]
     },
     "execution_count": 37,
     "metadata": {},
     "output_type": "execute_result"
    }
   ],
   "source": [
    "dataframe = df_aux\n",
    "setorF = 'Híbrido'\n",
    "oportunidade = oportunidade_media_setor(dataframe, setorF)\n",
    "oportunidade.sort_values('DY (12M) Acumulado', ascending=False, inplace=True)\n",
    "oportunidade"
   ]
  },
  {
   "attachments": {},
   "cell_type": "markdown",
   "metadata": {},
   "source": [
    "### 4. Analises (FIIs Pessoais)"
   ]
  },
  {
   "cell_type": "code",
   "execution_count": 22,
   "metadata": {},
   "outputs": [],
   "source": [
    "os.chdir(\"C:/Users/luis-/projetos/Python/analise-acoes/\") #selecionando o diretorio do arquivo CSV a ser lido\n",
    "tickets = pd.read_csv(\"./tickets.csv\", sep = ',') #importando dados de um csv utilizando o pandas\n",
    "tickets = tickets['Ativo'].tolist() #convertendo o data frame para lista"
   ]
  },
  {
   "cell_type": "code",
   "execution_count": 24,
   "metadata": {},
   "outputs": [],
   "source": [
    "filtro = df.iloc[:, 0].isin(tickets) #filtando os dados utilizando as acoes do arquivo csv\n",
    "df_filtro = df.loc[filtro]\n",
    "#display(df_filtro)"
   ]
  },
  {
   "cell_type": "code",
   "execution_count": 25,
   "metadata": {},
   "outputs": [],
   "source": [
    "df_auxp = df_filtro[indicadores] #filtra o df pelos  cabeçalhos\n",
    "#display(df_auxp)"
   ]
  },
  {
   "cell_type": "code",
   "execution_count": 30,
   "metadata": {},
   "outputs": [],
   "source": [
    "allsetors = list(df_filtro['Setor'].unique())"
   ]
  },
  {
   "cell_type": "code",
   "execution_count": 32,
   "metadata": {},
   "outputs": [
    {
     "name": "stdout",
     "output_type": "stream",
     "text": [
      "média do setor Yield: 11.786666666666667\n",
      "média do setor p/VPA: 0.8766666666666666\n",
      "média do setor Ativos: 9.333333333333334\n"
     ]
    },
    {
     "data": {
      "text/html": [
       "<div>\n",
       "<style scoped>\n",
       "    .dataframe tbody tr th:only-of-type {\n",
       "        vertical-align: middle;\n",
       "    }\n",
       "\n",
       "    .dataframe tbody tr th {\n",
       "        vertical-align: top;\n",
       "    }\n",
       "\n",
       "    .dataframe thead th {\n",
       "        text-align: right;\n",
       "    }\n",
       "</style>\n",
       "<table border=\"1\" class=\"dataframe\">\n",
       "  <thead>\n",
       "    <tr style=\"text-align: right;\">\n",
       "      <th></th>\n",
       "      <th>Código do fundo</th>\n",
       "      <th>Setor</th>\n",
       "      <th>DY (12M) Acumulado</th>\n",
       "      <th>Vacância Física</th>\n",
       "      <th>Vacância Financeira</th>\n",
       "      <th>P/VPA</th>\n",
       "      <th>Quantidade Ativos</th>\n",
       "      <th>Liquidez Diária</th>\n",
       "    </tr>\n",
       "  </thead>\n",
       "  <tbody>\n",
       "  </tbody>\n",
       "</table>\n",
       "</div>"
      ],
      "text/plain": [
       "Empty DataFrame\n",
       "Columns: [Código do fundo, Setor, DY (12M) Acumulado, Vacância Física, Vacância Financeira, P/VPA, Quantidade Ativos, Liquidez Diária]\n",
       "Index: []"
      ]
     },
     "execution_count": 32,
     "metadata": {},
     "output_type": "execute_result"
    }
   ],
   "source": [
    "oportunidade = oportunidade_media_setor(df_aux, setor='Hotel')\n",
    "oportunidade.sort_values('DY (12M) Acumulado', ascending=False, inplace=True)\n",
    "oportunidade"
   ]
  },
  {
   "cell_type": "code",
   "execution_count": null,
   "metadata": {},
   "outputs": [],
   "source": []
  }
 ],
 "metadata": {
  "kernelspec": {
   "display_name": "Python 3",
   "language": "python",
   "name": "python3"
  },
  "language_info": {
   "codemirror_mode": {
    "name": "ipython",
    "version": 3
   },
   "file_extension": ".py",
   "mimetype": "text/x-python",
   "name": "python",
   "nbconvert_exporter": "python",
   "pygments_lexer": "ipython3",
   "version": "3.11.3"
  }
 },
 "nbformat": 4,
 "nbformat_minor": 4
}
